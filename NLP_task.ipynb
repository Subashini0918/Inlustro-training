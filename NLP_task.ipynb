{
  "nbformat": 4,
  "nbformat_minor": 0,
  "metadata": {
    "colab": {
      "provenance": [],
      "authorship_tag": "ABX9TyPtOJ2GZaZZRb8Qd/0fD3nS",
      "include_colab_link": true
    },
    "kernelspec": {
      "name": "python3",
      "display_name": "Python 3"
    },
    "language_info": {
      "name": "python"
    }
  },
  "cells": [
    {
      "cell_type": "markdown",
      "metadata": {
        "id": "view-in-github",
        "colab_type": "text"
      },
      "source": [
        "<a href=\"https://colab.research.google.com/github/Subashini0918/Inlustro-training/blob/main/NLP_task.ipynb\" target=\"_parent\"><img src=\"https://colab.research.google.com/assets/colab-badge.svg\" alt=\"Open In Colab\"/></a>"
      ]
    },
    {
      "cell_type": "code",
      "execution_count": 7,
      "metadata": {
        "colab": {
          "base_uri": "https://localhost:8080/"
        },
        "id": "Wlj9vl5ywWih",
        "outputId": "93de6d78-4c7c-46fb-8b46-f4a542c89614"
      },
      "outputs": [
        {
          "output_type": "stream",
          "name": "stderr",
          "text": [
            "[nltk_data] Downloading package punkt to /root/nltk_data...\n",
            "[nltk_data]   Package punkt is already up-to-date!\n",
            "[nltk_data] Downloading package punkt_tab to /root/nltk_data...\n",
            "[nltk_data]   Package punkt_tab is already up-to-date!\n",
            "[nltk_data] Downloading package wordnet to /root/nltk_data...\n",
            "[nltk_data]   Package wordnet is already up-to-date!\n",
            "[nltk_data] Downloading package omw-1.4 to /root/nltk_data...\n",
            "[nltk_data]   Package omw-1.4 is already up-to-date!\n",
            "[nltk_data] Downloading package stopwords to /root/nltk_data...\n",
            "[nltk_data]   Unzipping corpora/stopwords.zip.\n"
          ]
        },
        {
          "output_type": "execute_result",
          "data": {
            "text/plain": [
              "True"
            ]
          },
          "metadata": {},
          "execution_count": 7
        }
      ],
      "source": [
        "import nltk\n",
        "from nltk.tokenize import word_tokenize\n",
        "from nltk.stem import PorterStemmer,LancasterStemmer,SnowballStemmer\n",
        "from nltk.stem import WordNetLemmatizer\n",
        "from nltk.corpus import wordnet\n",
        "from nltk.corpus import stopwords\n",
        "\n",
        "\n",
        "nltk.download('punkt')\n",
        "nltk.download('punkt_tab')\n",
        "nltk.download('wordnet')\n",
        "nltk.download('omw-1.4')\n",
        "nltk.download('stopwords')"
      ]
    },
    {
      "cell_type": "markdown",
      "source": [],
      "metadata": {
        "id": "6NJedRAfyvLp"
      }
    },
    {
      "cell_type": "code",
      "source": [
        "text=\"She is dancing well\"\n",
        "tokens=word_tokenize(text)\n",
        "print(\"Original tokens:\",tokens)"
      ],
      "metadata": {
        "colab": {
          "base_uri": "https://localhost:8080/"
        },
        "id": "3SryW-Jtzrak",
        "outputId": "2e9c5f0f-0fb7-4319-93d8-7d0e964d26f2"
      },
      "execution_count": 11,
      "outputs": [
        {
          "output_type": "stream",
          "name": "stdout",
          "text": [
            "Original tokens: ['She', 'is', 'dancing', 'well']\n"
          ]
        }
      ]
    },
    {
      "cell_type": "code",
      "source": [
        "porter = PorterStemmer()\n",
        "stemmed_words=[porter.stem(word)for word in tokens]\n",
        "print(\"Porter Stemmer:\",stemmed_words)"
      ],
      "metadata": {
        "colab": {
          "base_uri": "https://localhost:8080/"
        },
        "id": "GeO5QIlP1E25",
        "outputId": "eba38225-bf7d-4967-9537-aa735d005925"
      },
      "execution_count": 12,
      "outputs": [
        {
          "output_type": "stream",
          "name": "stdout",
          "text": [
            "Porter Stemmer: ['she', 'is', 'danc', 'well']\n"
          ]
        }
      ]
    },
    {
      "cell_type": "code",
      "source": [
        "Lemmatizer = WordNetLemmatizer()\n",
        "lemmatized_words =[Lemmatizer.lemmatize(word) for word in tokens]\n",
        "print(\"Lemmatized Words:\", lemmatized_words)"
      ],
      "metadata": {
        "colab": {
          "base_uri": "https://localhost:8080/"
        },
        "id": "aWb25CDjB88l",
        "outputId": "9d367708-afef-43cf-c530-6bda9b1bcfdc"
      },
      "execution_count": 19,
      "outputs": [
        {
          "output_type": "stream",
          "name": "stdout",
          "text": [
            "Lemmatized Words: ['she', 'is', 'dancing', 'well']\n"
          ]
        }
      ]
    },
    {
      "cell_type": "code",
      "source": [
        "tokens = [word.lower() for word in tokens]\n",
        "print(\"Lowercased Tokens:\",tokens)"
      ],
      "metadata": {
        "colab": {
          "base_uri": "https://localhost:8080/"
        },
        "id": "nm7xHUgUEYGk",
        "outputId": "4af57e65-3e43-4617-cebe-ea72065de210"
      },
      "execution_count": 16,
      "outputs": [
        {
          "output_type": "stream",
          "name": "stdout",
          "text": [
            "Lowercased Tokens: ['she', 'is', 'dancing', 'well']\n"
          ]
        }
      ]
    },
    {
      "cell_type": "code",
      "source": [
        "default_stopwords = set(stopwords.words('english'))\n",
        "default_filtered_tokens = [word for word in tokens if word not in default_stopwords]\n",
        "print(\"Tokens after removing default stopwords:\",default_filtered_tokens)"
      ],
      "metadata": {
        "colab": {
          "base_uri": "https://localhost:8080/"
        },
        "id": "PqyPMEFZF4nw",
        "outputId": "e21c2e8c-056a-4eed-d3fb-af0dc18bb29d"
      },
      "execution_count": 21,
      "outputs": [
        {
          "output_type": "stream",
          "name": "stdout",
          "text": [
            "Tokens after removing default stopwords: ['dancing', 'well']\n"
          ]
        }
      ]
    },
    {
      "cell_type": "code",
      "source": [
        "# Removing custom stopwords\n",
        "custom_stopwords = {\"dancing\",\"well\"}\n",
        "custom_filtered_tokens = [word for word in default_filtered_tokens if word not in custom_stopwords]\n",
        "print(\"Tokens after removing custom stopwords:\",custom_filtered_tokens)"
      ],
      "metadata": {
        "colab": {
          "base_uri": "https://localhost:8080/"
        },
        "id": "dAjXllInICF_",
        "outputId": "57a9a207-409b-4aaa-b8d5-2b5e3f85eb04"
      },
      "execution_count": 28,
      "outputs": [
        {
          "output_type": "stream",
          "name": "stdout",
          "text": [
            "Tokens after removing custom stopwords: []\n"
          ]
        }
      ]
    },
    {
      "cell_type": "code",
      "source": [
        "from nltk import pos_tag\n",
        "nltk.download('averaged_perceptron_tagger_eng')\n",
        "nltk.download('average_perceptron_tagger_eng')\n",
        "pos_tags = pos_tag(custom_filtered_tokens)\n",
        "print(\"POS Tags:\", pos_tags)"
      ],
      "metadata": {
        "colab": {
          "base_uri": "https://localhost:8080/"
        },
        "id": "5Rihdc0mKHot",
        "outputId": "2a295b9c-4fcc-4a23-ac33-8c7472fcc13a"
      },
      "execution_count": 35,
      "outputs": [
        {
          "output_type": "stream",
          "name": "stderr",
          "text": [
            "[nltk_data] Downloading package averaged_perceptron_tagger_eng to\n",
            "[nltk_data]     /root/nltk_data...\n",
            "[nltk_data]   Unzipping taggers/averaged_perceptron_tagger_eng.zip.\n",
            "[nltk_data] Error loading average_perceptron_tagger_eng: Package\n",
            "[nltk_data]     'average_perceptron_tagger_eng' not found in index\n"
          ]
        },
        {
          "output_type": "stream",
          "name": "stdout",
          "text": [
            "POS Tags: []\n"
          ]
        }
      ]
    }
  ]
}